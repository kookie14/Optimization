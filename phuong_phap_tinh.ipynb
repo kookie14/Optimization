{
  "nbformat": 4,
  "nbformat_minor": 0,
  "metadata": {
    "colab": {
      "provenance": [],
      "collapsed_sections": [],
      "mount_file_id": "1RR3Bg0B3JftetIzl4Ykr_CevAjbTbgQh",
      "authorship_tag": "ABX9TyM5gIQiugjWU9/CwgGNimjn",
      "include_colab_link": true
    },
    "kernelspec": {
      "name": "python3",
      "display_name": "Python 3"
    },
    "language_info": {
      "name": "python"
    }
  },
  "cells": [
    {
      "cell_type": "markdown",
      "metadata": {
        "id": "view-in-github",
        "colab_type": "text"
      },
      "source": [
        "<a href=\"https://colab.research.google.com/github/kookie14/Optimization/blob/main/phuong_phap_tinh.ipynb\" target=\"_parent\"><img src=\"https://colab.research.google.com/assets/colab-badge.svg\" alt=\"Open In Colab\"/></a>"
      ]
    },
    {
      "cell_type": "markdown",
      "source": [
        "# 1. Gausse Elimination Method\n"
      ],
      "metadata": {
        "id": "IGdlre_DBzx8"
      }
    },
    {
      "cell_type": "code",
      "source": [
        "def gaussy(A, b, n):\n",
        "    l = [0 for x in range(n)]\n",
        "    s = [0.0 for x in range(n)]\n",
        "    for i in range(n):\n",
        "        l[i] = i\n",
        "        smax = 0.0\n",
        "        for j in range(n):\n",
        "            if abs(A[i][j]) > smax:\n",
        "                smax = abs(A[i][j])\n",
        "        s[i] = smax\n",
        "\n",
        "    for i in range(n - 1):\n",
        "        rmax = 0.0\n",
        "        for j in range(i, n):\n",
        "            ratio = abs(A[l[j]][i]) / s[l[j]]\n",
        "            if ratio > rmax:\n",
        "                rmax = ratio\n",
        "                rindex = j\n",
        "        temp = l[i]\n",
        "        l[i] = l[rindex]\n",
        "        l[rindex] = temp\n",
        "        for j in range(i + 1, n):\n",
        "            multiplier = A[l[j]][i] / A[l[i]][i]\n",
        "            for k in range(i, n):\n",
        "                A[l[j]][k] = A[l[j]][k] - multiplier * A[l[i]][k]\n",
        "            b[l[j]] = b[l[j]] - multiplier * b[l[i]]\n",
        "\n",
        "    x = [0.0 for y in range(n)]\n",
        "    x[n - 1] = b[l[n - 1]] / A[l[n - 1]][n - 1]\n",
        "    for j in range(n - 2, -1, -1):\n",
        "        summ = 0.0\n",
        "        for k in range(j + 1, n):\n",
        "            summ = summ + A[l[j]][k] * x[k]\n",
        "        x[j] = (b[l[j]] - summ) / A[l[j]][j]\n",
        "\n",
        "    print (\"Nghiệm xấp xỉ [\", end=\"\")\n",
        "    for i in range(n):\n",
        "        if i != (n - 1):\n",
        "            print(x[i], \",\", end=\"\")\n",
        "        else:\n",
        "            print(x[i], \"].\")\n",
        "\n",
        "matrix0 = [[1, -1, 2 ,-1], [2,-2,3,-3],[1,1,1,0],[1,-1,4,3]]\n",
        "vector0 = [-8,-20,-2,4]\n",
        "\n",
        "matrix1 = [[3.0, 2.0, -5.0], [2.0, -3.0, 1.0], [1.0, 4.0, -1.0]]\n",
        "vector1 = [0.0, 0.0, 4.0]\n",
        "\n",
        "gaussy(matrix0, vector0, 4)\n",
        "gaussy(matrix1, vector1, 3)"
      ],
      "metadata": {
        "colab": {
          "base_uri": "https://localhost:8080/"
        },
        "id": "GDvJWh4vG7T0",
        "outputId": "f0135798-54ba-4d7c-ba6e-856813c595b2"
      },
      "execution_count": null,
      "outputs": [
        {
          "output_type": "stream",
          "name": "stdout",
          "text": [
            "Nghiệm xấp xỉ [-6.999999999999998 ,2.999999999999999 ,1.9999999999999993 ,2.0000000000000004 ].\n",
            "Nghiệm xấp xỉ [0.9999999999999999 ,1.0 ,1.0000000000000002 ].\n"
          ]
        }
      ]
    },
    {
      "cell_type": "markdown",
      "source": [
        "# 2. Gauss-Seidel Method"
      ],
      "metadata": {
        "id": "W4Xjli5UCDdU"
      }
    },
    {
      "cell_type": "code",
      "source": [
        "def gaussSeidel(A, b, x, N, tol):\n",
        "    maxIterations = 1000000\n",
        "    xprev = [0.0 for i in range(N)]\n",
        "    for i in range(maxIterations):\n",
        "        for j in range(N):\n",
        "            xprev[j] = x[j]\n",
        "        for j in range(N):\n",
        "            summ = 0.0\n",
        "            for k in range(N):\n",
        "                if (k != j):\n",
        "                    summ = summ + A[j][k] * x[k]\n",
        "            x[j] = (b[j] - summ) / A[j][j]\n",
        "        diff1norm = 0.0\n",
        "        oldnorm = 0.0\n",
        "        for j in range(N):\n",
        "            diff1norm = diff1norm + abs(x[j] - xprev[j])\n",
        "            oldnorm = oldnorm + abs(xprev[j])  \n",
        "        if oldnorm == 0.0:\n",
        "            oldnorm = 1.0\n",
        "        norm = diff1norm / oldnorm\n",
        "        if (norm < tol) and i != 0:\n",
        "            print(\"nghiệm xấp xĩ là: [\", end=\"\")\n",
        "            for j in range(N - 1):\n",
        "                print(x[j], \",\", end=\"\")\n",
        "            print(x[N - 1], \"]. mat \", i + 1, \"vong lap.\")\n",
        "            return\n",
        "    print(\"không hội tụ\")\n",
        "\n",
        "matrix2 = [[3.0, 1.0], [2.0, 6.0]]\n",
        "vector2 = [5.0, 9.0]\n",
        "guess = [0.0, 0.0]\n",
        "\n",
        "matrix3 = [[9.0, -3.0], [-2.0, 8.0]]\n",
        "vector3 = [6.0, -4.0]\n",
        "\n",
        "matrix4 = [[1.0, -3.0], [-2.0, 8.0]]\n",
        "\n",
        "gaussSeidel(matrix2, vector2, guess, 2, 0.00000000000001)\n",
        "gaussSeidel(matrix3, vector3, guess, 2, 0.00000000000001)\n",
        "gaussSeidel(matrix4, vector3, guess, 2, 0.00000000000001)"
      ],
      "metadata": {
        "colab": {
          "base_uri": "https://localhost:8080/"
        },
        "id": "SpJuAdhUHpXS",
        "outputId": "1d30f7d0-3ce7-4e03-f37e-30ee134998a7"
      },
      "execution_count": null,
      "outputs": [
        {
          "output_type": "stream",
          "name": "stdout",
          "text": [
            "Khoảng hội tụ là: [1.3125000000000018 ,1.0624999999999993 ]. mat  16 vong lap.\n",
            "Khoảng hội tụ là: [0.5454545454545457 ,-0.36363636363636354 ]. mat  15 vong lap.\n",
            "Khoảng hội tụ là: [17.99999999999958 ,3.999999999999895 ]. mat  109 vong lap.\n"
          ]
        }
      ]
    },
    {
      "cell_type": "markdown",
      "source": [
        "# 3. Cholesky Method"
      ],
      "metadata": {
        "id": "McJcYbWnCKx1"
      }
    },
    {
      "cell_type": "code",
      "source": [
        "import math\n",
        "import numpy as np\n",
        "\n",
        "MAX = 100;\n",
        " \n",
        "def Cholesky_Decomposition(matrix, n, b):\n",
        " \n",
        "    lower = [[0 for x in range(n + 1)]\n",
        "                for y in range(n + 1)];\n",
        "    L = [[0 for x in range(n)]\n",
        "              for y in range(n )];\n",
        "\n",
        "    # phân tích ma trận\n",
        "    # thành ma trận tam giác dưới\n",
        "    for i in range(n):\n",
        "        for j in range(i+1):\n",
        "            sum1 = 0;\n",
        "            sum3 = 0;\n",
        "            sum4 = 0;\n",
        " \n",
        "            # tính tổng \n",
        "            if (j == i):\n",
        "                for k in range(j):\n",
        "                    sum1 += pow(lower[j][k], 2);\n",
        "                lower[j][j] = float(math.sqrt(matrix[j][j] - sum1));\n",
        "            else:\n",
        "                 \n",
        "                # Đánh giá L[i,j]\n",
        "                # sử dụng L[j, j]\n",
        "                for k in range(j):\n",
        "                    sum1 += (lower[i][k] *lower[j][k]);\n",
        "                if(lower[j][j] > 0):\n",
        "                    lower[i][j] = float((matrix[i][j] - sum1) /\n",
        "                                               lower[j][j]);\n",
        "          \n",
        "    print(\"Ma trận tam giác dưới\\t\\tMa trận chuyển vị\");\n",
        "    for i in range(n):\n",
        "         \n",
        "        # Ma trận tam giác dưới\n",
        "        for j in range(n):\n",
        "            print(lower[i][j], end = \"\\t\");\n",
        "            L[i][j] = lower[i][j]\n",
        "        print(\"\", end = \"\\t\");\n",
        "         \n",
        "        # Ma trận chuyển vị của ma trận tam giác dưới\n",
        "        for j in range(n):\n",
        "            print(lower[j][i], end = \"\\t\");\n",
        "        print(\"\");\n",
        "    return L\n",
        "\n",
        "def solver(L,U,b):\n",
        "  L=np.array(L, float)\n",
        "  U=np.array(U, float)\n",
        "  b=np.array(b, float)\n",
        "\n",
        "  n,_=np.shape(L)\n",
        "  y=np.zeros(n)\n",
        "  x=np.zeros(n)\n",
        "\n",
        "# Giai PT Ly = b\n",
        "  for i in range(n):\n",
        "    sumj=0\n",
        "    for j in range(i):\n",
        "      sumj += L[i,j]*y[j]\n",
        "    y[i]=(b[i]-sumj)/L[i,i]\n",
        "\n",
        "# Gia Ux = y \n",
        "  for i in range(n-1, -1, -1):\n",
        "    sumj=0\n",
        "    for j in range(i+1,n):\n",
        "      sumj += U[i,j] * x[j]\n",
        "    x[i]=(y[i]-sumj)/U[i,i]\n",
        "  return x\n",
        "\n",
        "\n",
        "# ví dụ\n",
        "n = 3;\n",
        "matrix = [[4, 2, 14],\n",
        "          [2, 17, -5],\n",
        "          [14, -5, 83]];\n",
        "b = [14, -101, 155]\n",
        "L = Cholesky_Decomposition(matrix, n, b);\n",
        "print(L)\n",
        "U = np.transpose(L)\n",
        "print(U)\n",
        "print(\"Nghiệm x là: \")\n",
        "print((solver(L,U,b)))\n",
        "\n",
        "\n",
        " "
      ],
      "metadata": {
        "id": "B4kO-luPIHzV",
        "colab": {
          "base_uri": "https://localhost:8080/"
        },
        "outputId": "4038b0a4-17a5-43b8-d4f0-64b544677f2c"
      },
      "execution_count": null,
      "outputs": [
        {
          "output_type": "stream",
          "name": "stdout",
          "text": [
            "Ma trận tam giác dưới\t\tMa trận chuyển vị\n",
            "2.0\t0\t0\t\t2.0\t1.0\t7.0\t\n",
            "1.0\t4.0\t0\t\t0\t4.0\t-3.0\t\n",
            "7.0\t-3.0\t5.0\t\t0\t0\t5.0\t\n",
            "[[2.0, 0, 0], [1.0, 4.0, 0], [7.0, -3.0, 5.0]]\n",
            "[[ 2.  1.  7.]\n",
            " [ 0.  4. -3.]\n",
            " [ 0.  0.  5.]]\n",
            "Nghiệm x là: \n",
            "[ 3. -6.  1.]\n"
          ]
        }
      ]
    },
    {
      "cell_type": "markdown",
      "source": [
        "# 4. Gauss-Jordan Method\n",
        "\n",
        "\n",
        "\n"
      ],
      "metadata": {
        "id": "2yfzzsEaMbg0"
      }
    },
    {
      "cell_type": "code",
      "source": [
        "import numpy as np\n",
        "\n",
        "def swap(matrix, row,k):\n",
        "\ttemp = matrix[k]\n",
        "\tif (k != (row-1)):\n",
        "\t\tmatrix[k] = matrix[k+1]\n",
        "\t\tmatrix[k+1] = temp\n",
        "\t\tnormal(matrix,k,matrix[k][k],row+1)\n",
        "\t\teliminate(matrix,k,row,row+1)\n",
        "\n",
        "def normal(matrix,k, a,col):\n",
        "\tif (a!=0):\n",
        "\t\tfor j in range(col):\n",
        "\t\t\tmatrix[k][j] = matrix[k][j]/a\n",
        "\telse:\n",
        "\t\tswap(matrix,col-1,k)\n",
        "\n",
        "def eliminate(matrix, k, row,col):\n",
        "\tfor i in range(row):\n",
        "\t\tif (i!=k):\n",
        "\t\t\tb = matrix[i][k]\n",
        "\t\t\tfor j in range(col):\n",
        "\t\t\t\tmatrix[i][j] = matrix[i][j]-b*matrix[k][j]\n",
        "\n",
        "## ví dụ:\n",
        "matrix  = [[1, -1, 2 ,-1, -8], [2,-2,3,-3, -20],[1,1,1,0, -2],[1,-1,4,3, 4]]\n",
        "row = 4\n",
        "col = 5\n",
        "for i in range(row):\n",
        "  for j in range(col):\n",
        "  \tif(i==j):\n",
        "  \t\t      a = matrix[i][j]\n",
        "\t  \t      normal(matrix,i,a,col)\n",
        "\t  \t      eliminate(matrix,i,row,col)\n",
        "for i in range(len(matrix)):\n",
        "\tprint(matrix[i])\n"
      ],
      "metadata": {
        "colab": {
          "base_uri": "https://localhost:8080/"
        },
        "id": "qfwk0NnMCdp5",
        "outputId": "d97fb9a7-4ace-416a-ebeb-ebaffe2cea6b"
      },
      "execution_count": null,
      "outputs": [
        {
          "output_type": "stream",
          "name": "stdout",
          "text": [
            "[1.0, 0.0, 0.0, 0.0, -7.0]\n",
            "[0.0, 1.0, 0.0, 0.0, 3.0]\n",
            "[-0.0, -0.0, 1.0, 0.0, 2.0]\n",
            "[0.0, 0.0, 0.0, 1.0, 2.0]\n"
          ]
        }
      ]
    },
    {
      "cell_type": "markdown",
      "source": [
        "# Solutions of Equations in One Variable\n",
        "\n",
        "*   1. Fixed-point Iteration\n",
        "*   2. Newton's Method\n",
        "*   3. Secant Method\n",
        "*   4. False Position method\n",
        "\n"
      ],
      "metadata": {
        "id": "qxjmgIG1MQOg"
      }
    },
    {
      "cell_type": "markdown",
      "source": [
        "# Fixed-point Iteration"
      ],
      "metadata": {
        "id": "zmumQ9zAM-_j"
      }
    },
    {
      "cell_type": "code",
      "source": [
        "import numpy as np\n",
        "\n",
        "def g(p):\n",
        "    return((3*p**2+3)**(1/4))\n",
        "\n",
        "Tol = 10**(-2)\n",
        "N0 = 10\n",
        "p0 = 1\n",
        "i = 1\n",
        "\n",
        "while i<= N0:\n",
        "    p = g(p0)\n",
        "    FP = g(p)\n",
        "    if np.abs(p-p0)< Tol:\n",
        "        print(\"p = \"+str(p)+ \" after \"+str(i)+\" iterations\")\n",
        "        break\n",
        "    i = i+1\n",
        "    print(p)\n",
        "    p0 = p\n",
        "if i > N0: \n",
        "    print(\"Method failed after \" + str(N0)+ \" iterations\")"
      ],
      "metadata": {
        "id": "40mxhTeFCdWI",
        "colab": {
          "base_uri": "https://localhost:8080/"
        },
        "outputId": "755cc836-3ae2-4d1d-b6d3-3c3cc4cd0316"
      },
      "execution_count": null,
      "outputs": [
        {
          "output_type": "stream",
          "name": "stdout",
          "text": [
            "1.5650845800732873\n",
            "1.79357287863573\n",
            "1.8859437430173158\n",
            "1.9228478439840826\n",
            "1.9375075399574273\n",
            "p = 1.9433169298986768 after 6 iterations\n"
          ]
        }
      ]
    },
    {
      "cell_type": "markdown",
      "source": [
        "# Newton Method"
      ],
      "metadata": {
        "id": "c3lXsni5PJsY"
      }
    },
    {
      "cell_type": "code",
      "source": [
        "def newtonsmethod(p0, n, tol):\n",
        "    def f(p):\n",
        "        return((3*p**2+3)**(1/4))\n",
        "\n",
        "    def df(p):\n",
        "        return(3/2*p*((3*p**2+3)**(-3/4)))\n",
        "    i = 1\n",
        "    while i <= n:\n",
        "        p = p0 - (f(p0)/df(p0))\n",
        "        if abs(p- p0) < tol:\n",
        "            print(\"x = \"+str(p)+ \" after \"+str(i)+\" iterations\")\n",
        "            break\n",
        "        i =i+1\n",
        "        print(p)\n",
        "        p0 = p\n",
        "    if i > n: \n",
        "        print(\"Method failed after \" + str(n)+ \" iterations\")\n",
        "\n",
        "newtonsmethod(1, 10, 10**(-2))"
      ],
      "metadata": {
        "colab": {
          "base_uri": "https://localhost:8080/"
        },
        "id": "hsIyqS-6OVXF",
        "outputId": "51236138-df5f-4194-f095-7dd6d53c6c58"
      },
      "execution_count": null,
      "outputs": [
        {
          "output_type": "stream",
          "name": "stdout",
          "text": [
            "-3.0\n",
            "3.666666666666667\n",
            "-4.212121212121213\n",
            "4.6869413560061055\n",
            "-5.113658877751304\n",
            "5.504768266901541\n",
            "-5.868089646300087\n",
            "6.20891606861983\n",
            "-6.531033484590083\n",
            "6.837263732026262\n",
            "Method failed after 10 iterations\n"
          ]
        }
      ]
    },
    {
      "cell_type": "markdown",
      "source": [
        "# Secant Method"
      ],
      "metadata": {
        "id": "nC42CgpzPA4S"
      }
    },
    {
      "cell_type": "code",
      "source": [
        "from math import cos\n",
        "# apply with f  = cosx - x\n",
        "def secantMethod(p0, p1, tol, n):\n",
        "    def f(x):\n",
        "        return cos(x) - x\n",
        "    i = 2\n",
        "    q0 = f(p0)\n",
        "    q1 = f(p1)\n",
        "    while i <= n:\n",
        "        p = p1 - q1*(p1-p0)/(q1-q0)\n",
        "        if abs(p-p1) < tol:\n",
        "            print(\"x = \"+ str(p)+ \" after \" + str(i) + \" iterations\")\n",
        "            break\n",
        "        i = i+1\n",
        "        print(p)\n",
        "        p0 = p1\n",
        "        q0 = q1\n",
        "        p1 = p\n",
        "        q1 = f(p)\n",
        "    if i > n: \n",
        "        print(\"Method failed after \" + str(n)+ \" iterations\")\n",
        "\n",
        "## ví dụ\n",
        "        \n",
        "secantMethod(0,3.14/2, 10**(-2), 10)"
      ],
      "metadata": {
        "colab": {
          "base_uri": "https://localhost:8080/"
        },
        "id": "K88-gwBQOsJ3",
        "outputId": "eaf6f1e9-882a-4e11-8f91-fa61ace0ae4e"
      },
      "execution_count": null,
      "outputs": [
        {
          "output_type": "stream",
          "name": "stdout",
          "text": [
            "0.6110842890046084\n",
            "0.7232860813113391\n",
            "0.7395663230305634\n",
            "x = 0.7390834410483108 after 5 iterations\n"
          ]
        }
      ]
    },
    {
      "cell_type": "markdown",
      "source": [
        "# False Position Method"
      ],
      "metadata": {
        "id": "jMVVr06dPEjO"
      }
    },
    {
      "cell_type": "code",
      "source": [
        "from math import cos\n",
        "# apply with f  = cosx - x\n",
        "def flasePosition(p0, p1, tol, n):\n",
        "    def f(x):\n",
        "        return cos(x) - x\n",
        "    i = 2\n",
        "    q0 = f(p0)\n",
        "    q1 = f(p1)\n",
        "    while i <= n:\n",
        "        p = p1 - q1*(p1-p0)/(q1-q0)\n",
        "        print(p)\n",
        "        if abs(p-p1) < tol:\n",
        "            print(\"x = \"+ str(p)+ \" after \" + str(i) + \" iterations\")\n",
        "            break\n",
        "        i = i+1\n",
        "        q = f(p)\n",
        "        if(q*q1 < 0):\n",
        "            p0 = p1\n",
        "            q0 = q1\n",
        "        p1 = p\n",
        "        q1 = q\n",
        "    if i > n: \n",
        "        print(\"Method failed after \" + str(n)+ \" iterations\")\n",
        "# ví dụ\n",
        "flasePosition(0,3.14/2, 10**(-2), 10)\n",
        "        "
      ],
      "metadata": {
        "colab": {
          "base_uri": "https://localhost:8080/"
        },
        "id": "rFmMw90BOxoY",
        "outputId": "580017b2-6880-4fb6-9079-60b2976348b6"
      },
      "execution_count": null,
      "outputs": [
        {
          "output_type": "stream",
          "name": "stdout",
          "text": [
            "0.6110842890046084\n",
            "0.7232860813113391\n",
            "0.737268633985274\n",
            "0.7388781713239154\n",
            "x = 0.7388781713239154 after 5 iterations\n"
          ]
        }
      ]
    }
  ]
}