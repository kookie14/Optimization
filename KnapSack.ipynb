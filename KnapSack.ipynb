{
 "cells": [
  {
   "cell_type": "code",
   "execution_count": 1,
   "metadata": {},
   "outputs": [],
   "source": [
    "#Thư viện\n",
    "import numpy as np\n",
    "import random\n",
    "from datetime import datetime"
   ]
  },
  {
   "cell_type": "markdown",
   "metadata": {},
   "source": []
  },
  {
   "cell_type": "code",
   "execution_count": 2,
   "metadata": {},
   "outputs": [],
   "source": [
    "#Tham số\n",
    "n_objects = 20\n",
    "max_weight= 3 \n",
    "n_population = 100 \n",
    "mutation_rate = 0.3 # tỉ lệ đột biến"
   ]
  },
  {
   "cell_type": "code",
   "execution_count": 3,
   "metadata": {},
   "outputs": [
    {
     "data": {
      "text/plain": [
       "{'Nước': [0.7, 37],\n",
       " 'Đồ ăn': [0.1, 35],\n",
       " 'Quần': [0.7, 91],\n",
       " 'Tất': [0.9, 52],\n",
       " 'Giày': [0.0, 21],\n",
       " 'Áo phông': [0.5, 40],\n",
       " 'Áo khoác': [0.3, 85],\n",
       " 'Chăn bông': [0.1, 19],\n",
       " 'Laptop': [0.4, 8],\n",
       " 'TV': [0.1, 16],\n",
       " 'Điện thoại': [0.9, 43],\n",
       " 'Sách': [0.8, 3],\n",
       " 'Găng tay': [0.2, 27],\n",
       " 'Khăn tắm': [0.1, 63],\n",
       " 'Kem chống nắng': [0.2, 77],\n",
       " 'Kính': [0.0, 1],\n",
       " 'Dĩa': [0.5, 21],\n",
       " 'Dao': [0.6, 40],\n",
       " 'Diêm': [0.7, 21],\n",
       " 'Ghế': [0.5, 19]}"
      ]
     },
     "execution_count": 3,
     "metadata": {},
     "output_type": "execute_result"
    }
   ],
   "source": [
    "#Khởi tạo danh sách đồ vật và giá trị\n",
    "weight_value = [[x,y] for x,y in zip(np.random.randint(0,10,n_objects)/10,np.random.randint(0,100,n_objects))]\n",
    "object_list = np.array(['Nước', 'Đồ ăn', 'Quần', 'Tất', 'Giày', 'Áo phông', 'Áo khoác', 'Chăn bông', 'Laptop', 'TV', 'Điện thoại', 'Sách', 'Găng tay', 'Khăn tắm', 'Kem chống nắng', 'Kính', 'Dĩa', 'Dao', 'Diêm', 'Ghế'])\n",
    "objects_dict = { x:y for x,y in zip(object_list,weight_value)}\n",
    "\n",
    "def get_current_weight_value(objects_list, objects_dict):\n",
    "    weight = 0\n",
    "    value = 0\n",
    "    for o in objects_list:\n",
    "        o = objects_dict[o]\n",
    "        weight += o[0]\n",
    "        value += o[1]\n",
    "    return weight, value\n",
    "def fit_in_knapsack(objects_list, max_weight, objects_dict):\n",
    "    r = []\n",
    "    for o in objects_list:\n",
    "        r.append(o)\n",
    "        weight, value = get_current_weight_value(r, objects_dict)\n",
    "        if weight > max_weight:\n",
    "            r.pop()\n",
    "            return r\n",
    "    return r\n",
    "    \n",
    "objects_dict"
   ]
  },
  {
   "cell_type": "markdown",
   "metadata": {},
   "source": [
    "1. Tạo quần thể đầu tiên bằng cách, random N lần với N = n_population"
   ]
  },
  {
   "cell_type": "code",
   "execution_count": 4,
   "metadata": {},
   "outputs": [
    {
     "name": "stderr",
     "output_type": "stream",
     "text": [
      "C:\\Users\\Dell\\AppData\\Local\\Temp\\ipykernel_16060\\3244784553.py:20: VisibleDeprecationWarning: Creating an ndarray from ragged nested sequences (which is a list-or-tuple of lists-or-tuples-or ndarrays with different lengths or shapes) is deprecated. If you meant to do this, you must specify 'dtype=object' when creating the ndarray\n",
      "  return np.array(population_set)\n"
     ]
    },
    {
     "data": {
      "text/plain": [
       "array([list(['Dĩa', 'Điện thoại', 'Tất', 'TV', 'Áo phông', 'Khăn tắm']),\n",
       "       list(['Găng tay', 'Dĩa', 'TV', 'Ghế', 'Điện thoại', 'Diêm']),\n",
       "       list(['Dĩa', 'Áo khoác', 'Đồ ăn', 'Quần', 'Khăn tắm', 'TV', 'Sách']),\n",
       "       list(['Giày', 'Đồ ăn', 'Áo khoác', 'Ghế', 'TV', 'Tất', 'Khăn tắm', 'Dĩa']),\n",
       "       list(['Kính', 'Diêm', 'Giày', 'Dao', 'Kem chống nắng', 'Quần', 'Áo phông']),\n",
       "       list(['Kem chống nắng', 'Quần', 'Chăn bông', 'Dĩa', 'Tất', 'TV', 'Laptop']),\n",
       "       list(['Áo khoác', 'Quần', 'Dĩa', 'Điện thoại']),\n",
       "       list(['Chăn bông', 'Diêm', 'Giày', 'Tất', 'Khăn tắm', 'Nước', 'Ghế']),\n",
       "       list(['Laptop', 'TV', 'Quần', 'Găng tay', 'Kem chống nắng', 'Diêm', 'Dao', 'Kính']),\n",
       "       list(['Kính', 'Khăn tắm', 'Chăn bông', 'Ghế', 'Kem chống nắng', 'Giày', 'Dao', 'TV', 'Quần']),\n",
       "       list(['TV', 'Nước', 'Khăn tắm', 'Laptop', 'Diêm', 'Kem chống nắng', 'Áo phông', 'Giày']),\n",
       "       list(['Sách', 'Diêm', 'Tất']),\n",
       "       list(['Diêm', 'Ghế', 'Laptop', 'Quần', 'Áo khoác']),\n",
       "       list(['Kem chống nắng', 'Áo khoác', 'TV', 'Ghế', 'Diêm', 'Áo phông', 'Khăn tắm']),\n",
       "       list(['Quần', 'Dĩa', 'Kem chống nắng', 'Khăn tắm', 'Đồ ăn', 'Diêm', 'Laptop', 'Áo khoác']),\n",
       "       list(['Găng tay', 'Dĩa', 'Áo khoác', 'Quần', 'Kem chống nắng', 'Dao', 'Áo phông']),\n",
       "       list(['Quần', 'Chăn bông', 'Giày', 'TV', 'Tất', 'Dĩa']),\n",
       "       list(['Điện thoại', 'Laptop', 'Áo phông', 'Chăn bông', 'Ghế', 'Đồ ăn', 'Kính', 'Kem chống nắng']),\n",
       "       list(['Diêm', 'Khăn tắm', 'Tất', 'Nước', 'Kính', 'Giày', 'Ghế', 'Đồ ăn']),\n",
       "       list(['Diêm', 'Chăn bông', 'Điện thoại', 'Áo khoác', 'Khăn tắm', 'Quần', 'Kem chống nắng', 'Kính']),\n",
       "       list(['Giày', 'Quần', 'Kem chống nắng', 'Áo phông', 'Tất', 'Áo khoác']),\n",
       "       list(['Laptop', 'Diêm', 'Kem chống nắng', 'TV', 'Khăn tắm', 'Điện thoại', 'Kính']),\n",
       "       list(['Khăn tắm', 'TV', 'Điện thoại', 'Diêm', 'Giày', 'Laptop', 'Sách']),\n",
       "       list(['Đồ ăn', 'Khăn tắm', 'Dao', 'Giày', 'Áo phông', 'Diêm', 'Tất', 'Chăn bông']),\n",
       "       list(['Giày', 'Găng tay', 'Ghế', 'Đồ ăn', 'Áo phông', 'Khăn tắm', 'TV', 'Chăn bông', 'Diêm', 'Kem chống nắng', 'Laptop']),\n",
       "       list(['Giày', 'Dao', 'TV', 'Khăn tắm', 'Sách', 'Quần', 'Đồ ăn', 'Dĩa']),\n",
       "       list(['Ghế', 'TV', 'Dao', 'Tất', 'Áo phông', 'Giày', 'Kính', 'Găng tay', 'Chăn bông']),\n",
       "       list(['Áo khoác', 'Giày', 'Áo phông', 'Quần', 'Găng tay', 'Kem chống nắng', 'Laptop']),\n",
       "       list(['Đồ ăn', 'Dao', 'Giày', 'Sách', 'Ghế', 'Găng tay', 'TV', 'Quần']),\n",
       "       list(['Găng tay', 'Áo khoác', 'Nước', 'Giày', 'Dĩa', 'TV', 'Laptop']),\n",
       "       list(['Dĩa', 'Khăn tắm', 'Giày', 'Kem chống nắng', 'Chăn bông', 'TV', 'Ghế', 'Kính', 'Găng tay', 'Điện thoại', 'Laptop']),\n",
       "       list(['Áo phông', 'Chăn bông', 'Đồ ăn', 'Kính', 'Dao', 'Quần', 'Sách']),\n",
       "       list(['Đồ ăn', 'Kính', 'Dao', 'Laptop', 'TV', 'Áo phông', 'Quần', 'Chăn bông', 'Áo khoác']),\n",
       "       list(['Ghế', 'Kính', 'Giày', 'Quần', 'Điện thoại', 'Tất']),\n",
       "       list(['Kem chống nắng', 'Kính', 'Sách', 'Chăn bông', 'Diêm', 'Áo khoác', 'Dĩa']),\n",
       "       list(['Quần', 'Đồ ăn', 'Dĩa', 'Diêm', 'Dao']),\n",
       "       list(['Dĩa', 'Dao', 'Tất', 'Giày', 'Đồ ăn', 'Ghế']),\n",
       "       list(['Laptop', 'Dao', 'Sách', 'Tất', 'Áo khoác']),\n",
       "       list(['Áo khoác', 'TV', 'Diêm', 'Sách', 'Kính', 'Điện thoại', 'Đồ ăn', 'Giày']),\n",
       "       list(['Giày', 'Chăn bông', 'Tất', 'Ghế', 'Áo phông', 'Khăn tắm', 'Điện thoại']),\n",
       "       list(['TV', 'Khăn tắm', 'Dao', 'Kính', 'Kem chống nắng', 'Laptop', 'Sách']),\n",
       "       list(['Kính', 'Găng tay', 'Dĩa', 'Quần', 'Sách', 'Chăn bông', 'Diêm']),\n",
       "       list(['Dĩa', 'Ghế', 'Nước', 'Áo khoác', 'Tất', 'TV']),\n",
       "       list(['Tất', 'TV', 'Găng tay', 'Đồ ăn', 'Nước', 'Dĩa', 'Giày', 'Ghế']),\n",
       "       list(['Quần', 'Găng tay', 'Khăn tắm', 'Dĩa', 'Nước', 'Laptop']),\n",
       "       list(['Chăn bông', 'Điện thoại', 'Đồ ăn', 'Tất', 'Ghế']),\n",
       "       list(['Ghế', 'Đồ ăn', 'Điện thoại', 'Diêm', 'Găng tay', 'Kem chống nắng', 'Áo khoác', 'Giày']),\n",
       "       list(['Điện thoại', 'Ghế', 'TV', 'Áo khoác', 'Áo phông']),\n",
       "       list(['Điện thoại', 'TV', 'Ghế', 'Giày', 'Sách', 'Đồ ăn']),\n",
       "       list(['Tất', 'Giày', 'Áo khoác', 'Đồ ăn', 'Kem chống nắng', 'Laptop', 'Kính', 'Găng tay', 'Khăn tắm', 'TV']),\n",
       "       list(['Kem chống nắng', 'Đồ ăn', 'Giày', 'Sách', 'Tất', 'Quần']),\n",
       "       list(['Quần', 'Khăn tắm', 'Dĩa', 'Diêm', 'Đồ ăn', 'TV', 'Áo khoác', 'Áo phông', 'Kính']),\n",
       "       list(['TV', 'Đồ ăn', 'Điện thoại', 'Sách', 'Khăn tắm', 'Chăn bông', 'Dĩa', 'Găng tay']),\n",
       "       list(['Quần', 'Chăn bông', 'Áo phông', 'Giày', 'Tất', 'Găng tay', 'Laptop', 'TV']),\n",
       "       list(['Diêm', 'TV', 'Giày', 'Kem chống nắng', 'Đồ ăn', 'Chăn bông', 'Điện thoại', 'Quần']),\n",
       "       list(['Kính', 'Dĩa', 'Ghế', 'Chăn bông', 'Kem chống nắng', 'Điện thoại', 'Dao']),\n",
       "       list(['Kính', 'Dĩa', 'Tất', 'Điện thoại', 'Dao']),\n",
       "       list(['Tất', 'Nước', 'Kính', 'Găng tay', 'Quần', 'Ghế']),\n",
       "       list(['Găng tay', 'Đồ ăn', 'Áo khoác', 'Tất', 'Nước', 'Kính', 'Khăn tắm', 'Dao']),\n",
       "       list(['Dao', 'Tất', 'Đồ ăn', 'Điện thoại', 'Áo phông']),\n",
       "       list(['Dao', 'Quần', 'Nước', 'Dĩa', 'Áo khoác', 'Kem chống nắng']),\n",
       "       list(['Găng tay', 'Diêm', 'Ghế', 'Đồ ăn', 'Điện thoại', 'Giày', 'TV', 'Khăn tắm']),\n",
       "       list(['Diêm', 'Dao', 'Kính', 'Điện thoại', 'Đồ ăn', 'Khăn tắm']),\n",
       "       list(['Đồ ăn', 'Khăn tắm', 'Laptop', 'Kính', 'Nước', 'Dao', 'Dĩa', 'Áo phông', 'Chăn bông']),\n",
       "       list(['Nước', 'Giày', 'Sách', 'Điện thoại', 'Dao', 'Kính']),\n",
       "       list(['Sách', 'Ghế', 'Kem chống nắng', 'Găng tay', 'Diêm', 'Dao']),\n",
       "       list(['TV', 'Dĩa', 'Nước', 'Kem chống nắng', 'Găng tay', 'Khăn tắm', 'Áo khoác', 'Đồ ăn', 'Áo phông']),\n",
       "       list(['Khăn tắm', 'Kính', 'Quần', 'Giày', 'Laptop', 'Sách', 'Điện thoại']),\n",
       "       list(['Dao', 'Khăn tắm', 'Găng tay', 'Đồ ăn', 'Sách', 'Quần', 'Áo phông', 'Giày']),\n",
       "       list(['Điện thoại', 'Ghế', 'Diêm', 'Giày', 'Kem chống nắng', 'TV', 'Dao']),\n",
       "       list(['Áo khoác', 'Chăn bông', 'Quần', 'Ghế', 'Dao', 'Laptop']),\n",
       "       list(['Điện thoại', 'Nước', 'Diêm', 'Chăn bông', 'Ghế']),\n",
       "       list(['Sách', 'Kem chống nắng', 'Điện thoại', 'Kính', 'Nước']),\n",
       "       list(['Diêm', 'Khăn tắm', 'Giày', 'Ghế', 'Điện thoại', 'Áo phông']),\n",
       "       list(['Laptop', 'Chăn bông', 'TV', 'Đồ ăn', 'Giày', 'Điện thoại', 'Quần']),\n",
       "       list(['Nước', 'Dao', 'Kem chống nắng', 'Giày', 'Găng tay', 'Tất']),\n",
       "       list(['Tất', 'Găng tay', 'Áo phông', 'Nước', 'Dao', 'Kính']),\n",
       "       list(['Giày', 'Đồ ăn', 'Kem chống nắng', 'Chăn bông', 'Kính', 'Quần', 'Tất', 'Dĩa']),\n",
       "       list(['Tất', 'Dĩa', 'Khăn tắm', 'Áo phông', 'Diêm', 'Áo khoác']),\n",
       "       list(['Đồ ăn', 'TV', 'Sách', 'Diêm', 'Giày', 'Laptop', 'Tất', 'Kính']),\n",
       "       list(['TV', 'Áo khoác', 'Điện thoại', 'Găng tay', 'Khăn tắm', 'Kính', 'Sách']),\n",
       "       list(['Đồ ăn', 'Chăn bông', 'Ghế', 'Áo phông', 'Tất', 'Dao']),\n",
       "       list(['Áo khoác', 'Sách', 'Găng tay', 'Điện thoại', 'Quần', 'Kính']),\n",
       "       list(['TV', 'Kem chống nắng', 'Sách', 'Dĩa', 'Kính', 'Chăn bông', 'Giày', 'Điện thoại']),\n",
       "       list(['TV', 'Chăn bông', 'Điện thoại', 'Áo khoác', 'Laptop', 'Sách']),\n",
       "       list(['Chăn bông', 'Áo khoác', 'Găng tay', 'Dĩa', 'Diêm', 'Laptop', 'Sách', 'Giày']),\n",
       "       list(['Điện thoại', 'Diêm', 'Giày', 'Sách', 'Đồ ăn', 'Kem chống nắng']),\n",
       "       list(['Áo khoác', 'Kem chống nắng', 'Dao', 'Quần', 'Sách']),\n",
       "       list(['Ghế', 'Găng tay', 'Sách', 'Kính', 'Quần', 'Khăn tắm', 'TV', 'Chăn bông', 'Đồ ăn', 'Giày', 'Áo khoác']),\n",
       "       list(['Điện thoại', 'Ghế', 'Diêm', 'Kính', 'Áo phông']),\n",
       "       list(['Áo khoác', 'Chăn bông', 'Găng tay', 'Áo phông', 'TV', 'Khăn tắm', 'Kem chống nắng', 'Nước']),\n",
       "       list(['Quần', 'Ghế', 'Kính', 'Chăn bông', 'TV', 'Đồ ăn', 'Găng tay', 'Diêm']),\n",
       "       list(['Khăn tắm', 'Đồ ăn', 'Tất', 'TV', 'Ghế', 'Kính', 'Kem chống nắng', 'Dĩa', 'Laptop']),\n",
       "       list(['Giày', 'Kính', 'Dĩa', 'Sách', 'Dao', 'Điện thoại']),\n",
       "       list(['Áo khoác', 'Giày', 'Điện thoại', 'Laptop', 'Tất', 'Đồ ăn']),\n",
       "       list(['TV', 'Quần', 'Ghế', 'Sách', 'Điện thoại']),\n",
       "       list(['Dao', 'Dĩa', 'Laptop', 'Ghế', 'Găng tay', 'Kem chống nắng']),\n",
       "       list(['Tất', 'Giày', 'Kem chống nắng', 'Găng tay', 'Diêm', 'Đồ ăn', 'Dao']),\n",
       "       list(['Nước', 'Chăn bông', 'Quần', 'Dao', 'Đồ ăn', 'Sách']),\n",
       "       list(['Dao', 'Diêm', 'Giày', 'Găng tay', 'Sách', 'Quần'])],\n",
       "      dtype=object)"
      ]
     },
     "execution_count": 4,
     "metadata": {},
     "output_type": "execute_result"
    }
   ],
   "source": [
    "# Bước 1: Tạo quần thể đầu tiên\n",
    "def fit_in_knapsack(objects_list, max_weight, objects_dict):\n",
    "    r = []\n",
    "    for o in objects_list:\n",
    "        r.append(o)\n",
    "        weight, value = get_current_weight_value(r, objects_dict)\n",
    "        if weight > max_weight:\n",
    "            r.pop()\n",
    "            return r\n",
    "    return r\n",
    "\n",
    "def genesis(object_list, n_population, max_weight, objects_dict):\n",
    "\n",
    "    population_set = []\n",
    "    for i in range(n_population):\n",
    "        #Randomly generating a new solution\n",
    "        sol_i = object_list[np.random.choice(list(range(n_objects)), n_objects, replace=False)]\n",
    "        sol_i = fit_in_knapsack(sol_i, max_weight, objects_dict)\n",
    "        population_set.append(sol_i)\n",
    "    return np.array(population_set)\n",
    "\n",
    "population_set = genesis(object_list, n_population, max_weight, objects_dict)\n",
    "population_set"
   ]
  },
  {
   "cell_type": "code",
   "execution_count": 5,
   "metadata": {},
   "outputs": [
    {
     "data": {
      "text/plain": [
       "array([235., 147., 314., 312., 291., 284., 240., 232., 281., 347., 283.,\n",
       "        76., 224., 321., 401., 381., 220., 242., 249., 400., 366., 229.,\n",
       "       175., 291., 346., 290., 235., 349., 252., 215., 315., 229., 335.,\n",
       "       227., 227., 208., 188., 188., 225., 257., 208., 183., 230., 228.,\n",
       "       247., 168., 328., 203., 137., 385., 279., 373., 227., 274., 323.,\n",
       "       220., 157., 227., 340., 210., 351., 245., 203., 264., 145., 187.,\n",
       "       401., 230., 320., 237., 262., 139., 161., 207., 233., 254., 197.,\n",
       "       317., 282., 157., 238., 205., 250., 201., 174., 205., 200., 296.,\n",
       "       380., 124., 364., 229., 292., 129., 244., 172., 192., 273., 225.,\n",
       "       203.])"
      ]
     },
     "execution_count": 5,
     "metadata": {},
     "output_type": "execute_result"
    }
   ],
   "source": [
    "# Đánh giá fitness\n",
    "def get_all_fitnes(population_set, objects_dict):\n",
    "    fitnes_list=np.zeros(n_population)\n",
    "    # chay vong lap tất cả các giải pháp để tính toán fitness của từng giải pháp\n",
    "    for i in range(n_population):\n",
    "        _, fitnes_list[i]=get_current_weight_value(population_set[i],objects_dict)\n",
    "    return fitnes_list\n",
    "\n",
    "fitnes_list=get_all_fitnes(population_set, objects_dict)\n",
    "fitnes_list"
   ]
  },
  {
   "cell_type": "markdown",
   "metadata": {},
   "source": [
    "3. Lựa chọn bố mẹ trong GA\n",
    "Ta sẽ chọn một quần thể bằng bánh xe xổ số (Roulette Wheel Selection). Tạo ra một quần thể cặp các bố mẹ N = len(population_set) \n"
   ]
  },
  {
   "cell_type": "code",
   "execution_count": 6,
   "metadata": {},
   "outputs": [
    {
     "data": {
      "text/plain": [
       "['Dĩa', 'Dao', 'Tất', 'Giày', 'Đồ ăn', 'Ghế']"
      ]
     },
     "execution_count": 6,
     "metadata": {},
     "output_type": "execute_result"
    }
   ],
   "source": [
    "def progenitor_selection(population_set, fitnes_list):\n",
    "    total_fit = fitnes_list.sum()\n",
    "    prob_list = fitnes_list/total_fit\n",
    "\n",
    "    # có trường hợp tự giao phối\n",
    "    progenitor_list_x = np.random.choice(list(range(len(population_set))), len(population_set),p=prob_list, replace=True)\n",
    "    progenitor_list_y = np.random.choice(list(range(len(population_set))), len(population_set),p=prob_list, replace=True)\n",
    "    \n",
    "    progenitor_list_x = population_set[progenitor_list_x]\n",
    "    progenitor_list_y = population_set[progenitor_list_y]\n",
    "\n",
    "    return np.array([progenitor_list_x, progenitor_list_y])\n",
    "\n",
    "progenitor_list = progenitor_selection(population_set, fitnes_list)\n",
    "progenitor_list[0][2]"
   ]
  },
  {
   "cell_type": "markdown",
   "metadata": {},
   "source": [
    "4. Giao chéo\n"
   ]
  },
  {
   "cell_type": "code",
   "execution_count": 7,
   "metadata": {},
   "outputs": [
    {
     "data": {
      "text/plain": [
       "['Điện thoại',\n",
       " 'TV',\n",
       " 'Ghế',\n",
       " 'Áo khoác',\n",
       " 'Diêm',\n",
       " 'Giày',\n",
       " 'Găng tay',\n",
       " 'Kem chống nắng',\n",
       " 'Kính']"
      ]
     },
     "execution_count": 7,
     "metadata": {},
     "output_type": "execute_result"
    }
   ],
   "source": [
    "def mate_progenitors(prog_x, prog_y, max_weight, objects_dict):\n",
    "    offspring = []\n",
    "\n",
    "    for i in zip(prog_x, prog_y):\n",
    "        offspring.extend(i)\n",
    "        offspring = list(dict.fromkeys(offspring)) # xóa các bản giống nhau\n",
    "        offspring = fit_in_knapsack(offspring, max_weight, objects_dict)\n",
    "    return offspring\n",
    "\n",
    "def mate_population(progenitor_list, max_weight, objects_dict):\n",
    "    new_population_set = []\n",
    "    for i in range(progenitor_list.shape[1]):\n",
    "        prog_x, prog_y = progenitor_list[0][i], progenitor_list[1][i]\n",
    "        offspring = mate_progenitors(prog_x, prog_y, max_weight, objects_dict)\n",
    "        new_population_set.append(offspring)\n",
    "    return new_population_set\n",
    "new_population_set = mate_population(progenitor_list, max_weight, objects_dict)\n",
    "new_population_set[0]"
   ]
  },
  {
   "cell_type": "markdown",
   "metadata": {},
   "source": [
    "5. Tạo đột biến\n",
    "Thêm các đột biến cho mỗi thế hệ bằng cách random"
   ]
  },
  {
   "cell_type": "code",
   "execution_count": 8,
   "metadata": {},
   "outputs": [
    {
     "data": {
      "text/plain": [
       "['Điện thoại', 'TV', 'Ghế', 'Áo khoác', 'Diêm', 'Giày', 'Laptop']"
      ]
     },
     "execution_count": 8,
     "metadata": {},
     "output_type": "execute_result"
    }
   ],
   "source": [
    "def mutate_offspring(offspring, max_weight, object_list, objects_dict):\n",
    "    for mutation_number in range(int(len(offspring)*mutation_rate)):\n",
    "        x = np.random.randint(0, len(object_list))\n",
    "        y=np.random.randint(0, len(offspring))\n",
    "\n",
    "        offspring.insert(y, object_list[x])\n",
    "    offspring=fit_in_knapsack(offspring, max_weight, objects_dict)\n",
    "\n",
    "    return offspring\n",
    "def mutate_population(new_population_set, max_weight, object_list, objects_dict):\n",
    "    mutated_pop = []\n",
    "    for offspring in new_population_set:\n",
    "        mutated_pop.append(mutate_offspring(offspring, max_weight, object_list, objects_dict))\n",
    "    return mutated_pop\n",
    "mutated_pop = mutate_population(new_population_set, max_weight, object_list, objects_dict)\n",
    "mutated_pop[0]"
   ]
  },
  {
   "cell_type": "markdown",
   "metadata": {},
   "source": [
    "6. Điều kiện dừng vòng lặp\n",
    "Để tạo điều kiện dừng thì ta cần tạo ra 1 vòng lặp để dừng. Sau đó sẽ cài đặt nó để lặp lại tại 10000 lần lặp"
   ]
  },
  {
   "cell_type": "code",
   "execution_count": 9,
   "metadata": {},
   "outputs": [
    {
     "name": "stdout",
     "output_type": "stream",
     "text": [
      "0 76.0 249.62 28/04/22 20:58\n"
     ]
    },
    {
     "name": "stderr",
     "output_type": "stream",
     "text": [
      "C:\\Users\\Dell\\AppData\\Local\\Temp\\ipykernel_16060\\487959623.py:10: VisibleDeprecationWarning: Creating an ndarray from ragged nested sequences (which is a list-or-tuple of lists-or-tuples-or ndarrays with different lengths or shapes) is deprecated. If you meant to do this, you must specify 'dtype=object' when creating the ndarray\n",
      "  best_solution[2] = np.array(mutated_pop)[fitnes_list.max() == fitnes_list]\n"
     ]
    },
    {
     "name": "stdout",
     "output_type": "stream",
     "text": [
      "100 94.0 274.5 28/04/22 20:58\n",
      "200 93.0 251.67 28/04/22 20:58\n",
      "300 58.0 253.46 28/04/22 20:58\n",
      "400 110.0 259.89 28/04/22 20:58\n",
      "500 90.0 268.22 28/04/22 20:58\n",
      "600 107.0 244.44 28/04/22 20:58\n",
      "700 94.0 270.57 28/04/22 20:58\n",
      "800 64.0 270.96 28/04/22 20:58\n",
      "900 78.0 259.87 28/04/22 20:58\n",
      "1000 92.0 280.16 28/04/22 20:58\n",
      "1100 80.0 253.96 28/04/22 20:58\n",
      "1200 82.0 248.49 28/04/22 20:58\n",
      "1300 75.0 266.75 28/04/22 20:58\n",
      "1400 51.0 266.59 28/04/22 20:58\n",
      "1500 103.0 254.17 28/04/22 20:58\n",
      "1600 72.0 275.05 28/04/22 20:58\n",
      "1700 118.0 266.28 28/04/22 20:58\n",
      "1800 94.0 256.07 28/04/22 20:58\n",
      "1900 67.0 251.11 28/04/22 20:58\n",
      "2000 76.0 255.76 28/04/22 20:58\n",
      "2100 80.0 264.94 28/04/22 20:58\n",
      "2200 81.0 258.03 28/04/22 20:58\n",
      "2300 105.0 258.06 28/04/22 20:58\n",
      "2400 99.0 250.74 28/04/22 20:58\n",
      "2500 94.0 272.34 28/04/22 20:58\n",
      "2600 83.0 262.1 28/04/22 20:58\n",
      "2700 91.0 268.9 28/04/22 20:58\n",
      "2800 65.0 249.59 28/04/22 20:58\n",
      "2900 107.0 255.76 28/04/22 20:58\n",
      "3000 85.0 276.97 28/04/22 20:58\n",
      "3100 92.0 258.68 28/04/22 20:58\n",
      "3200 113.0 261.89 28/04/22 20:58\n",
      "3300 83.0 248.41 28/04/22 20:58\n",
      "3400 123.0 271.86 28/04/22 20:58\n",
      "3500 116.0 262.72 28/04/22 20:58\n",
      "3600 112.0 250.23 28/04/22 20:58\n",
      "3700 91.0 263.02 28/04/22 20:59\n",
      "3800 104.0 275.0 28/04/22 20:59\n",
      "3900 98.0 264.8 28/04/22 20:59\n",
      "4000 73.0 245.31 28/04/22 20:59\n",
      "4100 110.0 278.21 28/04/22 20:59\n",
      "4200 105.0 250.32 28/04/22 20:59\n",
      "4300 132.0 272.62 28/04/22 20:59\n",
      "4400 139.0 265.77 28/04/22 20:59\n",
      "4500 83.0 258.12 28/04/22 20:59\n",
      "4600 92.0 272.44 28/04/22 20:59\n",
      "4700 106.0 259.04 28/04/22 20:59\n",
      "4800 73.0 258.98 28/04/22 20:59\n",
      "4900 64.0 268.03 28/04/22 20:59\n",
      "5000 98.0 264.91 28/04/22 20:59\n",
      "5100 91.0 270.47 28/04/22 20:59\n",
      "5200 80.0 249.78 28/04/22 20:59\n",
      "5300 120.0 257.64 28/04/22 20:59\n",
      "5400 95.0 254.6 28/04/22 20:59\n",
      "5500 49.0 260.65 28/04/22 20:59\n",
      "5600 79.0 261.14 28/04/22 20:59\n",
      "5700 83.0 261.94 28/04/22 20:59\n",
      "5800 83.0 263.15 28/04/22 20:59\n",
      "5900 84.0 268.07 28/04/22 20:59\n",
      "6000 91.0 254.8 28/04/22 20:59\n",
      "6100 51.0 254.4 28/04/22 20:59\n",
      "6200 95.0 254.09 28/04/22 20:59\n",
      "6300 102.0 254.69 28/04/22 20:59\n",
      "6400 86.0 272.55 28/04/22 20:59\n",
      "6500 73.0 253.29 28/04/22 20:59\n",
      "6600 112.0 277.36 28/04/22 20:59\n",
      "6700 125.0 268.56 28/04/22 20:59\n",
      "6800 68.0 259.46 28/04/22 20:59\n",
      "6900 96.0 265.32 28/04/22 20:59\n",
      "7000 76.0 244.7 28/04/22 20:59\n",
      "7100 91.0 264.34 28/04/22 20:59\n",
      "7200 102.0 263.79 28/04/22 20:59\n",
      "7300 41.0 265.33 28/04/22 20:59\n",
      "7400 83.0 254.78 28/04/22 20:59\n",
      "7500 65.0 254.61 28/04/22 20:59\n",
      "7600 88.0 257.47 28/04/22 20:59\n",
      "7700 65.0 260.45 28/04/22 21:00\n",
      "7800 85.0 269.39 28/04/22 21:00\n",
      "7900 94.0 263.91 28/04/22 21:00\n",
      "8000 91.0 267.65 28/04/22 21:00\n",
      "8100 83.0 267.54 28/04/22 21:00\n",
      "8200 76.0 266.84 28/04/22 21:00\n",
      "8300 76.0 249.01 28/04/22 21:00\n",
      "8400 86.0 256.56 28/04/22 21:00\n",
      "8500 88.0 274.35 28/04/22 21:00\n",
      "8600 104.0 272.19 28/04/22 21:00\n",
      "8700 96.0 253.22 28/04/22 21:00\n",
      "8800 117.0 268.95 28/04/22 21:00\n",
      "8900 116.0 265.47 28/04/22 21:00\n",
      "9000 78.0 256.56 28/04/22 21:00\n",
      "9100 98.0 267.24 28/04/22 21:00\n",
      "9200 112.0 278.28 28/04/22 21:00\n",
      "9300 77.0 251.92 28/04/22 21:00\n",
      "9400 86.0 253.05 28/04/22 21:00\n",
      "9500 97.0 259.92 28/04/22 21:00\n",
      "9600 134.0 287.12 28/04/22 21:00\n",
      "9700 88.0 260.32 28/04/22 21:00\n",
      "9800 93.0 256.46 28/04/22 21:00\n",
      "9900 83.0 245.3 28/04/22 21:00\n"
     ]
    }
   ],
   "source": [
    "best_solution = [-1,-np.inf,np.array([])]\n",
    "for i in range(10000):\n",
    "    if i%100==0: print(i, fitnes_list.min(), fitnes_list.mean(), datetime.now().strftime(\"%d/%m/%y %H:%M\"))\n",
    "    fitnes_list = get_all_fitnes(mutated_pop,objects_dict)\n",
    "    \n",
    "    # Lưu lại phương pháp tốt nhất\n",
    "    if fitnes_list.max() > best_solution[1]:\n",
    "        best_solution[0] = i\n",
    "        best_solution[1] = fitnes_list.max()\n",
    "        best_solution[2] = np.array(mutated_pop)[fitnes_list.max() == fitnes_list]\n",
    "    \n",
    "    progenitor_list = progenitor_selection(population_set,fitnes_list)\n",
    "    new_population_set = mate_population(progenitor_list, max_weight, objects_dict)\n",
    "    \n",
    "    mutated_pop = mutate_population(new_population_set, max_weight,object_list, objects_dict)"
   ]
  },
  {
   "cell_type": "code",
   "execution_count": 10,
   "metadata": {},
   "outputs": [
    {
     "data": {
      "text/plain": [
       "(2.9000000000000004, 645)"
      ]
     },
     "execution_count": 10,
     "metadata": {},
     "output_type": "execute_result"
    }
   ],
   "source": [
    "get_current_weight_value(best_solution[2][0], objects_dict)"
   ]
  }
 ],
 "metadata": {
  "interpreter": {
   "hash": "5d97ad4eda96f4e0dcd5ae4f97368654619500468c6147550d2a1b2a1881f9a5"
  },
  "kernelspec": {
   "display_name": "Python 3.8.8 64-bit",
   "language": "python",
   "name": "python3"
  },
  "language_info": {
   "codemirror_mode": {
    "name": "ipython",
    "version": 3
   },
   "file_extension": ".py",
   "mimetype": "text/x-python",
   "name": "python",
   "nbconvert_exporter": "python",
   "pygments_lexer": "ipython3",
   "version": "3.8.8"
  },
  "orig_nbformat": 4
 },
 "nbformat": 4,
 "nbformat_minor": 2
}
